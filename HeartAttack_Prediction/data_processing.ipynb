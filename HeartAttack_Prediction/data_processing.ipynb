{
 "cells": [
  {
   "cell_type": "markdown",
   "metadata": {},
   "source": [
    "# HeartAttack Prediction\r\n",
    "### 속성 설명\r\n",
    "1. Age : 나이\r\n",
    "2. Sex : 성별\r\n",
    "3. cp : 가슴 통증 종류\r\n",
    "    - 1: 전형적인 협심증\r\n",
    "    - 2: 불규칙적인 협심증\r\n",
    "    - 3: 협심증이 아닌 통증\r\n",
    "    - 4: 무증상\r\n",
    "4. trtbps : 혈압\r\n",
    "5. chol : 콜레스트롤 수치\r\n",
    "6. fbs : 공복 혈당 (fasting blood sugar > 120 mg/dl) (1 = true; 0 = false)\r\n",
    "7. rest_ecg : resting electrocardiographic results (0, 1, 2)\r\n",
    "8. exang : exercise induced angina (1 = yes; 0 = no)\r\n",
    "9. output : 0= 심장마비 확률 적음, 1= 심장마비 확률 높음\r\n",
    " \r\n",
    "(angina/협심증 : 심장의 혈액 순환로가 되는 관상동맥이 좁아져 갑작스럽게 흉부 통증 또는 압박감을 느끼는 상태)"
   ]
  },
  {
   "cell_type": "markdown",
   "metadata": {},
   "source": [
    "- 역할 분담 (예정)\r\n",
    "    - 이예현 : 데이터 시각화, 주석 작성\r\n",
    "    - 정해성 : 모델 학습, 예측, 평가\r\n",
    "\r\n",
    "- 출처 : https://www.kaggle.com/rashikrahmanpritom/heart-attack-analysis-prediction-dataset"
   ]
  },
  {
   "cell_type": "markdown",
   "metadata": {},
   "source": [
    "### 데이터 시각화\r\n",
    "---\r\n"
   ]
  },
  {
   "cell_type": "code",
   "execution_count": 1,
   "metadata": {},
   "outputs": [],
   "source": [
    "import pandas as pd\n",
    "import matplotlib.pyplot as plt\n",
    "import numpy as np"
   ]
  },
  {
   "cell_type": "markdown",
   "metadata": {},
   "source": [
    "### 머신러닝 모델 학습\r\n",
    "---"
   ]
  },
  {
   "cell_type": "code",
   "execution_count": 2,
   "metadata": {},
   "outputs": [],
   "source": [
    "import sklearn"
   ]
  }
 ],
 "metadata": {
  "interpreter": {
   "hash": "b3ba2566441a7c06988d0923437866b63cedc61552a5af99d1f4fb67d367b25f"
  },
  "kernelspec": {
   "name": "python3",
   "display_name": "Python 3.8.3 64-bit ('base': conda)"
  },
  "language_info": {
   "codemirror_mode": {
    "name": "ipython",
    "version": 3
   },
   "file_extension": ".py",
   "mimetype": "text/x-python",
   "name": "python",
   "nbconvert_exporter": "python",
   "pygments_lexer": "ipython3",
   "version": "3.8.3"
  }
 },
 "nbformat": 4,
 "nbformat_minor": 2
}