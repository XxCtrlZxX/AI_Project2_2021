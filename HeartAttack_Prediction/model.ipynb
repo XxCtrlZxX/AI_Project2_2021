{
 "cells": [
  {
   "cell_type": "markdown",
   "metadata": {},
   "source": [
    "# HeartAttack Prediction\n",
    "### 속성 설명\n",
    "1. Age : 나이\n",
    "2. Sex : 성별 (1 = 남성, 0 = 여성)\n",
    "3. cp : 가슴 통증 종류\n",
    "    - 1: 전형적인 협심증\n",
    "    - 2: 불규칙적인 협심증\n",
    "    - 3: 협심증이 아닌 통증\n",
    "    - 4: 무증상\n",
    "4. trtbps : 혈압\n",
    "5. chol : 콜레스트롤 수치\n",
    "6. fbs : 공복 혈당 (fasting blood sugar > 120 mg/dl) (1 = true; 0 = false)\n",
    "7. restecg : 공복 심전도 (0 = 정상, 1 = , 2)\n",
    "8. thalachh : 최대 심박수\n",
    "9. exang : 운동으로 인한 협심증 (1 = 예; 0 = 아니요)\n",
    "10. output : 0 = 심장마비 확률 적음, 1 = 심장마비 확률 높음\n",
    " \n",
    "(angina/협심증 : 심장의 혈액 순환로가 되는 관상동맥이 좁아져 갑작스럽게 흉부 통증 또는 압박감을 느끼는 상태)"
   ]
  },
  {
   "cell_type": "markdown",
   "metadata": {},
   "source": [
    "- 역할 분담 (예정)\n",
    "    - 이예현 : 데이터 가공, 시각화, 주석 작성\n",
    "    - 정해성 : 모델 학습, 예측, 평가\n",
    "\n",
    "- 출처 : https://www.kaggle.com/rashikrahmanpritom/heart-attack-analysis-prediction-dataset"
   ]
  },
  {
   "cell_type": "markdown",
   "metadata": {},
   "source": [
    "### 데이터 시각화\n",
    "---\n"
   ]
  },
  {
   "cell_type": "code",
   "execution_count": null,
   "metadata": {},
   "outputs": [],
   "source": []
  },
  {
   "cell_type": "markdown",
   "metadata": {},
   "source": [
    "## 머신러닝 모델 학습\n",
    "---"
   ]
  },
  {
   "cell_type": "code",
   "execution_count": 1,
   "metadata": {},
   "outputs": [],
   "source": [
    "import pandas as pd\n",
    "\n",
    "origin_df = pd.read_csv('./heart.csv')\n",
    "origin_df.drop(['oldpeak', 'slp', 'caa', 'restecg', 'thall'], axis = 1, inplace = True)\n",
    "origin_df.rename(\n",
    "    columns = {\n",
    "        'age' : 'Age',\n",
    "        'sex' : 'Sex',\n",
    "        'cp' : 'PainType',\n",
    "        'trtbps' : 'BloodPressure',\n",
    "        'chol' : 'CholestoralDensity',\n",
    "        'fbs' : 'BloodSugar',\n",
    "        'thalachh' : 'MaxHeartRate',\n",
    "        'exng' : 'IsExerciseInduced',\n",
    "        'output' : 'Result',\n",
    "    },\n",
    "    inplace = True\n",
    ")\n",
    "\n",
    "df_feature = origin_df.drop(['Result'], axis=1, inplace=False)\n",
    "df_label = origin_df['Result']"
   ]
  },
  {
   "cell_type": "markdown",
   "metadata": {},
   "source": [
    "### One-Hot Encoding"
   ]
  },
  {
   "cell_type": "code",
   "execution_count": 2,
   "metadata": {
    "scrolled": true
   },
   "outputs": [
    {
     "data": {
      "text/html": [
       "<div>\n",
       "<style scoped>\n",
       "    .dataframe tbody tr th:only-of-type {\n",
       "        vertical-align: middle;\n",
       "    }\n",
       "\n",
       "    .dataframe tbody tr th {\n",
       "        vertical-align: top;\n",
       "    }\n",
       "\n",
       "    .dataframe thead th {\n",
       "        text-align: right;\n",
       "    }\n",
       "</style>\n",
       "<table border=\"1\" class=\"dataframe\">\n",
       "  <thead>\n",
       "    <tr style=\"text-align: right;\">\n",
       "      <th></th>\n",
       "      <th>Age</th>\n",
       "      <th>BloodPressure</th>\n",
       "      <th>CholestoralDensity</th>\n",
       "      <th>MaxHeartRate</th>\n",
       "      <th>Sex_0</th>\n",
       "      <th>Sex_1</th>\n",
       "      <th>PainType_0</th>\n",
       "      <th>PainType_1</th>\n",
       "      <th>PainType_2</th>\n",
       "      <th>PainType_3</th>\n",
       "      <th>BloodSugar_0</th>\n",
       "      <th>BloodSugar_1</th>\n",
       "      <th>IsExerciseInduced_0</th>\n",
       "      <th>IsExerciseInduced_1</th>\n",
       "    </tr>\n",
       "  </thead>\n",
       "  <tbody>\n",
       "    <tr>\n",
       "      <th>0</th>\n",
       "      <td>63</td>\n",
       "      <td>145</td>\n",
       "      <td>233</td>\n",
       "      <td>150</td>\n",
       "      <td>0</td>\n",
       "      <td>1</td>\n",
       "      <td>0</td>\n",
       "      <td>0</td>\n",
       "      <td>0</td>\n",
       "      <td>1</td>\n",
       "      <td>0</td>\n",
       "      <td>1</td>\n",
       "      <td>1</td>\n",
       "      <td>0</td>\n",
       "    </tr>\n",
       "    <tr>\n",
       "      <th>1</th>\n",
       "      <td>37</td>\n",
       "      <td>130</td>\n",
       "      <td>250</td>\n",
       "      <td>187</td>\n",
       "      <td>0</td>\n",
       "      <td>1</td>\n",
       "      <td>0</td>\n",
       "      <td>0</td>\n",
       "      <td>1</td>\n",
       "      <td>0</td>\n",
       "      <td>1</td>\n",
       "      <td>0</td>\n",
       "      <td>1</td>\n",
       "      <td>0</td>\n",
       "    </tr>\n",
       "    <tr>\n",
       "      <th>2</th>\n",
       "      <td>41</td>\n",
       "      <td>130</td>\n",
       "      <td>204</td>\n",
       "      <td>172</td>\n",
       "      <td>1</td>\n",
       "      <td>0</td>\n",
       "      <td>0</td>\n",
       "      <td>1</td>\n",
       "      <td>0</td>\n",
       "      <td>0</td>\n",
       "      <td>1</td>\n",
       "      <td>0</td>\n",
       "      <td>1</td>\n",
       "      <td>0</td>\n",
       "    </tr>\n",
       "    <tr>\n",
       "      <th>3</th>\n",
       "      <td>56</td>\n",
       "      <td>120</td>\n",
       "      <td>236</td>\n",
       "      <td>178</td>\n",
       "      <td>0</td>\n",
       "      <td>1</td>\n",
       "      <td>0</td>\n",
       "      <td>1</td>\n",
       "      <td>0</td>\n",
       "      <td>0</td>\n",
       "      <td>1</td>\n",
       "      <td>0</td>\n",
       "      <td>1</td>\n",
       "      <td>0</td>\n",
       "    </tr>\n",
       "    <tr>\n",
       "      <th>4</th>\n",
       "      <td>57</td>\n",
       "      <td>120</td>\n",
       "      <td>354</td>\n",
       "      <td>163</td>\n",
       "      <td>1</td>\n",
       "      <td>0</td>\n",
       "      <td>1</td>\n",
       "      <td>0</td>\n",
       "      <td>0</td>\n",
       "      <td>0</td>\n",
       "      <td>1</td>\n",
       "      <td>0</td>\n",
       "      <td>0</td>\n",
       "      <td>1</td>\n",
       "    </tr>\n",
       "  </tbody>\n",
       "</table>\n",
       "</div>"
      ],
      "text/plain": [
       "   Age  BloodPressure  CholestoralDensity  MaxHeartRate  Sex_0  Sex_1  \\\n",
       "0   63            145                 233           150      0      1   \n",
       "1   37            130                 250           187      0      1   \n",
       "2   41            130                 204           172      1      0   \n",
       "3   56            120                 236           178      0      1   \n",
       "4   57            120                 354           163      1      0   \n",
       "\n",
       "   PainType_0  PainType_1  PainType_2  PainType_3  BloodSugar_0  BloodSugar_1  \\\n",
       "0           0           0           0           1             0             1   \n",
       "1           0           0           1           0             1             0   \n",
       "2           0           1           0           0             1             0   \n",
       "3           0           1           0           0             1             0   \n",
       "4           1           0           0           0             1             0   \n",
       "\n",
       "   IsExerciseInduced_0  IsExerciseInduced_1  \n",
       "0                    1                    0  \n",
       "1                    1                    0  \n",
       "2                    1                    0  \n",
       "3                    1                    0  \n",
       "4                    0                    1  "
      ]
     },
     "execution_count": 2,
     "metadata": {},
     "output_type": "execute_result"
    }
   ],
   "source": [
    "from sklearn.preprocessing import OneHotEncoder, LabelEncoder\n",
    "\n",
    "atomic_col_names = ['Sex', 'PainType', 'BloodSugar', 'IsExerciseInduced']\n",
    "\n",
    "df_feature_oh = pd.get_dummies(df_feature, columns=atomic_col_names)\n",
    "df_feature_oh.head()"
   ]
  },
  {
   "cell_type": "markdown",
   "metadata": {},
   "source": [
    "#### 불필요한 요소 포함하고 모델 학습 및 포함 안 하고 모델 학습"
   ]
  },
  {
   "cell_type": "code",
   "execution_count": 7,
   "metadata": {},
   "outputs": [],
   "source": [
    "from sklearn.model_selection import train_test_split\n",
    "\n",
    "# 학습용 데이터와 테스트용 데이터로 분리 (8 : 2)\n",
    "def split(feature, label):\n",
    "    return train_test_split(feature, label, test_size=0.2, random_state=11)"
   ]
  },
  {
   "cell_type": "code",
   "execution_count": 8,
   "metadata": {
    "scrolled": false
   },
   "outputs": [
    {
     "name": "stdout",
     "output_type": "stream",
     "text": [
      "정확도 : 0.819672131147541\n"
     ]
    }
   ],
   "source": [
    "# 로지스틱 회귀 사용\n",
    "from sklearn.linear_model import LogisticRegression\n",
    "from sklearn.preprocessing import StandardScaler\n",
    "from sklearn.metrics import  accuracy_score\n",
    "\n",
    "# 분할하고 표준화를 하면 행 순서가 맞지 않아서 join을 했을 때 NaN이 뜨는 현상이 있음\n",
    "# 그래서 학습 데이터 전체를 표준화 한 후 분할을 할 예정\n",
    "\n",
    "con_indices = ['Age', 'BloodPressure', 'CholestoralDensity', 'MaxHeartRate'] # 연속적인 데이터프레임 인덱스\n",
    "\n",
    "x_scaled = StandardScaler().fit_transform(df_feature[con_indices]) # 연속적인 열만 표준화\n",
    "\n",
    "df_scaled_feature = pd.DataFrame(x_scaled, columns=con_indices) # DataFrame으로 변환\n",
    "\n",
    "df_scaled_feature = df_scaled_feature.join(df_feature_oh.drop(con_indices, axis=1, inplace=False)) # 표준화 된 데이터 프레임과 기존 것과 합침\n",
    "\n",
    "x_train_s, x_test_s, y_train_s, y_test_s = split(df_scaled_feature, df_label) # 표준화 된 데이터 프레임과 레이블을 학습/테스트 데이터로 분리\n",
    "\n",
    "## 로지스틱 회귀를 이용해서 모델 학습\n",
    "model = LogisticRegression()\n",
    "\n",
    "model.fit(x_train_s, y_train_s) # 모델 학습\n",
    "\n",
    "prediction = model.predict(x_test_s) # 예측\n",
    "\n",
    "pred_score = accuracy_score(y_test_s, prediction) # 평가\n",
    "\n",
    "print('정확도 :', pred_score)"
   ]
  },
  {
   "cell_type": "code",
   "execution_count": 9,
   "metadata": {},
   "outputs": [
    {
     "name": "stdout",
     "output_type": "stream",
     "text": [
      "정확도 : 0.5737704918032787\n"
     ]
    }
   ],
   "source": [
    "# DecisionTree 사용\n",
    "from sklearn.tree import DecisionTreeClassifier\n",
    "\n",
    "dt_clf = DecisionTreeClassifier(random_state=11)\n",
    "\n",
    "dt_clf.fit(x_train_s, y_train_s)\n",
    "\n",
    "pred = dt_clf.predict(x_test_s)\n",
    "\n",
    "print('정확도 :', accuracy_score(y_test_s, pred))"
   ]
  },
  {
   "cell_type": "code",
   "execution_count": 6,
   "metadata": {},
   "outputs": [],
   "source": [
    "# KFold 교차 검증\n",
    "from sklearn.model_selection import KFold, cross_val_score\n",
    "\n",
    "cv = KFold(n_splits=4)\n"
   ]
  }
 ],
 "metadata": {
  "interpreter": {
   "hash": "03e2bacca69606a7f54583e7523a643c7297fb4cd07d6f61f5f48133eb790e9c"
  },
  "kernelspec": {
   "display_name": "Python 3",
   "language": "python",
   "name": "python3"
  },
  "language_info": {
   "codemirror_mode": {
    "name": "ipython",
    "version": 3
   },
   "file_extension": ".py",
   "mimetype": "text/x-python",
   "name": "python",
   "nbconvert_exporter": "python",
   "pygments_lexer": "ipython3",
   "version": "3.8.10"
  }
 },
 "nbformat": 4,
 "nbformat_minor": 2
}
