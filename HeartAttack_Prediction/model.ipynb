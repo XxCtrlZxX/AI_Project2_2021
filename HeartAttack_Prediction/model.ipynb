{
 "cells": [
  {
   "cell_type": "markdown",
   "metadata": {},
   "source": [
    "# HeartAttack Prediction\r\n",
    "### 속성 설명\r\n",
    "1. Age : 나이\r\n",
    "2. Sex : 성별 (1 = 남성, 0 = 여성)\r\n",
    "3. cp : 가슴 통증 종류\r\n",
    "    - 1: 전형적인 협심증\r\n",
    "    - 2: 불규칙적인 협심증\r\n",
    "    - 3: 협심증이 아닌 통증\r\n",
    "    - 4: 무증상\r\n",
    "4. trtbps : 혈압\r\n",
    "5. chol : 콜레스트롤 수치\r\n",
    "6. fbs : 공복 혈당 (fasting blood sugar > 120 mg/dl) (1 = true; 0 = false)\r\n",
    "7. restecg : 공복 심전도 (0 = 정상, 1 = , 2)\r\n",
    "8. thalachh : 최대 심박수\r\n",
    "9. exang : 운동으로 인한 협심증 (1 = 예; 0 = 아니요)\r\n",
    "10. output : 0 = 심장마비 확률 적음, 1 = 심장마비 확률 높음\r\n",
    " \r\n",
    "(angina/협심증 : 심장의 혈액 순환로가 되는 관상동맥이 좁아져 갑작스럽게 흉부 통증 또는 압박감을 느끼는 상태)"
   ]
  },
  {
   "cell_type": "markdown",
   "metadata": {},
   "source": [
    "- 역할 분담 (예정)\r\n",
    "    - 이예현 : 데이터 가공, 시각화, 주석 작성\r\n",
    "    - 정해성 : 모델 학습, 예측, 평가\r\n",
    "\r\n",
    "- 출처 : https://www.kaggle.com/rashikrahmanpritom/heart-attack-analysis-prediction-dataset"
   ]
  },
  {
   "cell_type": "markdown",
   "metadata": {},
   "source": [
    "### 데이터 시각화\r\n",
    "---\r\n"
   ]
  },
  {
   "cell_type": "code",
   "execution_count": 5,
   "metadata": {},
   "outputs": [],
   "source": []
  },
  {
   "cell_type": "markdown",
   "metadata": {},
   "source": [
    "### 머신러닝 모델 학습\r\n",
    "---"
   ]
  },
  {
   "cell_type": "code",
   "execution_count": 2,
   "metadata": {},
   "outputs": [],
   "source": [
    "import pandas as pd\r\n",
    "\r\n",
    "origin_df = pd.read_csv('./heart.csv')\r\n",
    "origin_df.drop(['oldpeak', 'slp', 'caa', 'restecg', 'thall'], axis = 1, inplace = True)\r\n",
    "origin_df.rename(\r\n",
    "    columns = {\r\n",
    "        'age' : 'Age',\r\n",
    "        'sex' : 'Sex',\r\n",
    "        'cp' : 'PainType',\r\n",
    "        'trtbps' : 'BloodPressure',\r\n",
    "        'chol' : 'CholestoralDensity',\r\n",
    "        'fbs' : 'BloodSugar',\r\n",
    "        'thalachh' : 'MaxHeartRate',\r\n",
    "        'exng' : 'IsExerciseInduced',\r\n",
    "        'output' : 'Result',\r\n",
    "    },\r\n",
    "    inplace = True\r\n",
    ")"
   ]
  },
  {
   "cell_type": "code",
   "execution_count": 4,
   "metadata": {},
   "outputs": [
    {
     "name": "stdout",
     "output_type": "stream",
     "text": [
      "(242, 8) (242,)\n",
      "(61, 8) (61,)\n"
     ]
    }
   ],
   "source": [
    "# 무지성 학습\r\n",
    "from sklearn.model_selection import train_test_split\r\n",
    "\r\n",
    "# 학습용 데이터와 테스트용 데이터로 분리\r\n",
    "x_train, x_test, y_train, y_test = train_test_split(\r\n",
    "    origin_df.drop(['Result'], axis=1, inplace=False),\r\n",
    "    origin_df['Result'],\r\n",
    "    test_size=0.2, random_state=11\r\n",
    ")\r\n",
    "print(x_train.shape, y_train.shape)\r\n",
    "print(x_test.shape, y_test.shape)"
   ]
  },
  {
   "cell_type": "code",
   "execution_count": 5,
   "metadata": {},
   "outputs": [
    {
     "name": "stdout",
     "output_type": "stream",
     "text": [
      "정확도 : 0.5901639344262295\n"
     ]
    }
   ],
   "source": [
    "# DecisionTree 사용\r\n",
    "from sklearn.tree import DecisionTreeClassifier\r\n",
    "from sklearn.metrics import  accuracy_score\r\n",
    "\r\n",
    "dt_clf = DecisionTreeClassifier(random_state=11)\r\n",
    "\r\n",
    "dt_clf.fit(x_train, y_train)\r\n",
    "\r\n",
    "pred = dt_clf.predict(x_test)\r\n",
    "\r\n",
    "print('정확도 :', accuracy_score(y_test, pred))"
   ]
  },
  {
   "cell_type": "code",
   "execution_count": 6,
   "metadata": {},
   "outputs": [
    {
     "name": "stdout",
     "output_type": "stream",
     "text": [
      "정확도 : 0.8032786885245902\n"
     ]
    }
   ],
   "source": [
    "# 로지스틱 회귀 사용\r\n",
    "from sklearn.linear_model import LogisticRegression\r\n",
    "\r\n",
    "model = LogisticRegression()\r\n",
    "\r\n",
    "model.fit(x_train, y_train)\r\n",
    "\r\n",
    "pred = model.predict(x_test)\r\n",
    "\r\n",
    "print('정확도 :', accuracy_score(y_test, pred))"
   ]
  },
  {
   "cell_type": "code",
   "execution_count": 8,
   "metadata": {},
   "outputs": [
    {
     "name": "stderr",
     "output_type": "stream",
     "text": [
      "C:\\ProgramData\\Anaconda3\\envs\\venv30425\\lib\\site-packages\\sklearn\\linear_model\\_logistic.py:763: ConvergenceWarning: lbfgs failed to converge (status=1):\n",
      "STOP: TOTAL NO. of ITERATIONS REACHED LIMIT.\n",
      "\n",
      "Increase the number of iterations (max_iter) or scale the data as shown in:\n",
      "    https://scikit-learn.org/stable/modules/preprocessing.html\n",
      "Please also refer to the documentation for alternative solver options:\n",
      "    https://scikit-learn.org/stable/modules/linear_model.html#logistic-regression\n",
      "  n_iter_i = _check_optimize_result(\n",
      "C:\\ProgramData\\Anaconda3\\envs\\venv30425\\lib\\site-packages\\sklearn\\linear_model\\_logistic.py:763: ConvergenceWarning: lbfgs failed to converge (status=1):\n",
      "STOP: TOTAL NO. of ITERATIONS REACHED LIMIT.\n",
      "\n",
      "Increase the number of iterations (max_iter) or scale the data as shown in:\n",
      "    https://scikit-learn.org/stable/modules/preprocessing.html\n",
      "Please also refer to the documentation for alternative solver options:\n",
      "    https://scikit-learn.org/stable/modules/linear_model.html#logistic-regression\n",
      "  n_iter_i = _check_optimize_result(\n",
      "C:\\ProgramData\\Anaconda3\\envs\\venv30425\\lib\\site-packages\\sklearn\\linear_model\\_logistic.py:763: ConvergenceWarning: lbfgs failed to converge (status=1):\n",
      "STOP: TOTAL NO. of ITERATIONS REACHED LIMIT.\n",
      "\n",
      "Increase the number of iterations (max_iter) or scale the data as shown in:\n",
      "    https://scikit-learn.org/stable/modules/preprocessing.html\n",
      "Please also refer to the documentation for alternative solver options:\n",
      "    https://scikit-learn.org/stable/modules/linear_model.html#logistic-regression\n",
      "  n_iter_i = _check_optimize_result(\n"
     ]
    },
    {
     "data": {
      "text/plain": [
       "array([0.73684211, 0.63157895, 0.67105263, 0.61333333])"
      ]
     },
     "execution_count": 8,
     "metadata": {},
     "output_type": "execute_result"
    }
   ],
   "source": [
    "# KFold 교차 검증\r\n",
    "from sklearn.model_selection import KFold, cross_val_score\r\n",
    "\r\n",
    "cv = KFold(n_splits=4)\r\n"
   ]
  }
 ],
 "metadata": {
  "interpreter": {
   "hash": "282d394820d1ade0fd25f7b496f3f4adef96d3a0f61a4659f79f2fc97e85a206"
  },
  "kernelspec": {
   "display_name": "Python 3.8.10 64-bit ('venv30425': conda)",
   "name": "python3"
  },
  "language_info": {
   "codemirror_mode": {
    "name": "ipython",
    "version": 3
   },
   "file_extension": ".py",
   "mimetype": "text/x-python",
   "name": "python",
   "nbconvert_exporter": "python",
   "pygments_lexer": "ipython3",
   "version": "3.8.10"
  }
 },
 "nbformat": 4,
 "nbformat_minor": 2
}