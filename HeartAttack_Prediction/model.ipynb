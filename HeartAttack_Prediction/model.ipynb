{
 "cells": [
  {
   "cell_type": "markdown",
   "metadata": {},
   "source": [
    "## 머신러닝 모델 학습\n",
    "---"
   ]
  },
  {
   "cell_type": "code",
   "execution_count": 1,
   "metadata": {},
   "outputs": [],
   "source": [
    "import pandas as pd\n",
    "\n",
    "origin_df = pd.read_csv('./heart.csv')\n",
    "origin_df.drop(['oldpeak', 'slp', 'caa', 'restecg', 'thall'], axis = 1, inplace = True)\n",
    "origin_df.rename(\n",
    "    columns = {\n",
    "        'age' : 'Age',\n",
    "        'sex' : 'Sex',\n",
    "        'cp' : 'PainType',\n",
    "        'trtbps' : 'BloodPressure',\n",
    "        'chol' : 'CholestoralDensity',\n",
    "        'fbs' : 'BloodSugar',\n",
    "        'thalachh' : 'MaxHeartRate',\n",
    "        'exng' : 'IsExerciseInduced',\n",
    "        'output' : 'Result',\n",
    "    },\n",
    "    inplace = True\n",
    ")\n",
    "\n",
    "df_feature = origin_df.drop(['Result'], axis=1, inplace=False)\n",
    "df_label = origin_df['Result']"
   ]
  },
  {
   "cell_type": "markdown",
   "metadata": {},
   "source": [
    "### One-Hot Encoding"
   ]
  },
  {
   "cell_type": "code",
   "execution_count": 2,
   "metadata": {
    "scrolled": true
   },
   "outputs": [
    {
     "data": {
      "text/html": [
       "<div>\n",
       "<style scoped>\n",
       "    .dataframe tbody tr th:only-of-type {\n",
       "        vertical-align: middle;\n",
       "    }\n",
       "\n",
       "    .dataframe tbody tr th {\n",
       "        vertical-align: top;\n",
       "    }\n",
       "\n",
       "    .dataframe thead th {\n",
       "        text-align: right;\n",
       "    }\n",
       "</style>\n",
       "<table border=\"1\" class=\"dataframe\">\n",
       "  <thead>\n",
       "    <tr style=\"text-align: right;\">\n",
       "      <th></th>\n",
       "      <th>Age</th>\n",
       "      <th>BloodPressure</th>\n",
       "      <th>CholestoralDensity</th>\n",
       "      <th>MaxHeartRate</th>\n",
       "      <th>Sex_0</th>\n",
       "      <th>Sex_1</th>\n",
       "      <th>PainType_0</th>\n",
       "      <th>PainType_1</th>\n",
       "      <th>PainType_2</th>\n",
       "      <th>PainType_3</th>\n",
       "      <th>BloodSugar_0</th>\n",
       "      <th>BloodSugar_1</th>\n",
       "      <th>IsExerciseInduced_0</th>\n",
       "      <th>IsExerciseInduced_1</th>\n",
       "    </tr>\n",
       "  </thead>\n",
       "  <tbody>\n",
       "    <tr>\n",
       "      <th>0</th>\n",
       "      <td>63</td>\n",
       "      <td>145</td>\n",
       "      <td>233</td>\n",
       "      <td>150</td>\n",
       "      <td>0</td>\n",
       "      <td>1</td>\n",
       "      <td>0</td>\n",
       "      <td>0</td>\n",
       "      <td>0</td>\n",
       "      <td>1</td>\n",
       "      <td>0</td>\n",
       "      <td>1</td>\n",
       "      <td>1</td>\n",
       "      <td>0</td>\n",
       "    </tr>\n",
       "    <tr>\n",
       "      <th>1</th>\n",
       "      <td>37</td>\n",
       "      <td>130</td>\n",
       "      <td>250</td>\n",
       "      <td>187</td>\n",
       "      <td>0</td>\n",
       "      <td>1</td>\n",
       "      <td>0</td>\n",
       "      <td>0</td>\n",
       "      <td>1</td>\n",
       "      <td>0</td>\n",
       "      <td>1</td>\n",
       "      <td>0</td>\n",
       "      <td>1</td>\n",
       "      <td>0</td>\n",
       "    </tr>\n",
       "    <tr>\n",
       "      <th>2</th>\n",
       "      <td>41</td>\n",
       "      <td>130</td>\n",
       "      <td>204</td>\n",
       "      <td>172</td>\n",
       "      <td>1</td>\n",
       "      <td>0</td>\n",
       "      <td>0</td>\n",
       "      <td>1</td>\n",
       "      <td>0</td>\n",
       "      <td>0</td>\n",
       "      <td>1</td>\n",
       "      <td>0</td>\n",
       "      <td>1</td>\n",
       "      <td>0</td>\n",
       "    </tr>\n",
       "    <tr>\n",
       "      <th>3</th>\n",
       "      <td>56</td>\n",
       "      <td>120</td>\n",
       "      <td>236</td>\n",
       "      <td>178</td>\n",
       "      <td>0</td>\n",
       "      <td>1</td>\n",
       "      <td>0</td>\n",
       "      <td>1</td>\n",
       "      <td>0</td>\n",
       "      <td>0</td>\n",
       "      <td>1</td>\n",
       "      <td>0</td>\n",
       "      <td>1</td>\n",
       "      <td>0</td>\n",
       "    </tr>\n",
       "    <tr>\n",
       "      <th>4</th>\n",
       "      <td>57</td>\n",
       "      <td>120</td>\n",
       "      <td>354</td>\n",
       "      <td>163</td>\n",
       "      <td>1</td>\n",
       "      <td>0</td>\n",
       "      <td>1</td>\n",
       "      <td>0</td>\n",
       "      <td>0</td>\n",
       "      <td>0</td>\n",
       "      <td>1</td>\n",
       "      <td>0</td>\n",
       "      <td>0</td>\n",
       "      <td>1</td>\n",
       "    </tr>\n",
       "  </tbody>\n",
       "</table>\n",
       "</div>"
      ],
      "text/plain": [
       "   Age  BloodPressure  CholestoralDensity  MaxHeartRate  Sex_0  Sex_1  \\\n",
       "0   63            145                 233           150      0      1   \n",
       "1   37            130                 250           187      0      1   \n",
       "2   41            130                 204           172      1      0   \n",
       "3   56            120                 236           178      0      1   \n",
       "4   57            120                 354           163      1      0   \n",
       "\n",
       "   PainType_0  PainType_1  PainType_2  PainType_3  BloodSugar_0  BloodSugar_1  \\\n",
       "0           0           0           0           1             0             1   \n",
       "1           0           0           1           0             1             0   \n",
       "2           0           1           0           0             1             0   \n",
       "3           0           1           0           0             1             0   \n",
       "4           1           0           0           0             1             0   \n",
       "\n",
       "   IsExerciseInduced_0  IsExerciseInduced_1  \n",
       "0                    1                    0  \n",
       "1                    1                    0  \n",
       "2                    1                    0  \n",
       "3                    1                    0  \n",
       "4                    0                    1  "
      ]
     },
     "execution_count": 2,
     "metadata": {},
     "output_type": "execute_result"
    }
   ],
   "source": [
    "from sklearn.preprocessing import OneHotEncoder, LabelEncoder\n",
    "\n",
    "atomic_col_names = ['Sex', 'PainType', 'BloodSugar', 'IsExerciseInduced']\n",
    "\n",
    "df_feature_oh = pd.get_dummies(df_feature, columns=atomic_col_names)\n",
    "df_feature_oh.head()"
   ]
  },
  {
   "cell_type": "markdown",
   "metadata": {},
   "source": [
    "#### 불필요한 요소 포함하고 모델 학습 및 포함 안 하고 모델 학습"
   ]
  },
  {
   "cell_type": "code",
   "execution_count": 3,
   "metadata": {},
   "outputs": [],
   "source": [
    "from sklearn.model_selection import train_test_split\n",
    "\n",
    "# 학습용 데이터와 테스트용 데이터로 분리 (8 : 2)\n",
    "def split(feature, label):\n",
    "    return train_test_split(feature, label, test_size=0.2, random_state=11)"
   ]
  },
  {
   "cell_type": "code",
   "execution_count": 4,
   "metadata": {
    "scrolled": false
   },
   "outputs": [
    {
     "name": "stdout",
     "output_type": "stream",
     "text": [
      "정확도 : 0.819672131147541\n"
     ]
    }
   ],
   "source": [
    "# 로지스틱 회귀 사용\r\n",
    "from sklearn.linear_model import LogisticRegression\r\n",
    "from sklearn.preprocessing import StandardScaler\r\n",
    "from sklearn.metrics import  accuracy_score\r\n",
    "\r\n",
    "# 분할하고 표준화를 하면 행 순서가 맞지 않아서 join을 했을 때 NaN이 뜨는 현상이 있음\r\n",
    "# 그래서 학습 데이터 전체를 표준화 한 후 분할을 할 예정\r\n",
    "\r\n",
    "con_indices = ['Age', 'BloodPressure', 'CholestoralDensity', 'MaxHeartRate'] # 연속적인 데이터프레임 인덱스\r\n",
    "\r\n",
    "x_scaled = StandardScaler().fit_transform(df_feature[con_indices]) # 연속적인 열만 표준화\r\n",
    "\r\n",
    "df_scaled_feature = pd.DataFrame(x_scaled, columns=con_indices) # DataFrame으로 변환\r\n",
    "\r\n",
    "df_scaled_feature = df_scaled_feature.join(df_feature_oh.drop(con_indices, axis=1, inplace=False)) # 표준화 된 데이터 프레임과 기존 것과 합침\r\n",
    "\r\n",
    "x_train_s, x_test_s, y_train_s, y_test_s = split(df_scaled_feature, df_label) # 표준화 된 데이터 프레임과 레이블을 학습/테스트 데이터로 분리\r\n",
    "\r\n",
    "## 로지스틱 회귀를 이용해서 모델 학습\r\n",
    "model = LogisticRegression()\r\n",
    "\r\n",
    "model.fit(x_train_s, y_train_s) # 모델 학습\r\n",
    "\r\n",
    "prediction = model.predict(x_test_s) # 예측\r\n",
    "\r\n",
    "pred_score = accuracy_score(y_test_s, prediction) # 평가\r\n",
    "\r\n",
    "print('정확도 :', pred_score)"
   ]
  },
  {
   "cell_type": "code",
   "execution_count": 6,
   "metadata": {},
   "outputs": [],
   "source": [
    "# KFold 교차 검증\r\n",
    "from sklearn.model_selection import KFold, cross_val_score\r\n",
    "\r\n",
    "\r\n",
    "\r\n",
    "cv = KFold(n_splits=5)\r\n",
    "\r\n",
    "accs = []\r\n",
    "\r\n",
    "for "
   ]
  }
 ],
 "metadata": {
  "interpreter": {
   "hash": "282d394820d1ade0fd25f7b496f3f4adef96d3a0f61a4659f79f2fc97e85a206"
  },
  "kernelspec": {
   "display_name": "Python 3.8.10 64-bit ('venv30425': conda)",
   "name": "python3"
  },
  "language_info": {
   "codemirror_mode": {
    "name": "ipython",
    "version": 3
   },
   "file_extension": ".py",
   "mimetype": "text/x-python",
   "name": "python",
   "nbconvert_exporter": "python",
   "pygments_lexer": "ipython3",
   "version": "3.8.10"
  }
 },
 "nbformat": 4,
 "nbformat_minor": 2
}