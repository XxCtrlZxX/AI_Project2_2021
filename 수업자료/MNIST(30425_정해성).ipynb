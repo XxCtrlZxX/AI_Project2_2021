{
 "cells": [
  {
   "cell_type": "markdown",
   "id": "1de64e04",
   "metadata": {},
   "source": [
    "# 딥러닝 프레임워크란?\n",
    "- 딥러닝을 개발하기 위한 여러 라이브러리나 모듈 등을 쉽게 사용할 수 있도록 하나로 묶어 놓은 패키지\n",
    "- 씨아노(Theano), 카페(Caffe), 케라스(Keras), 텐서플로(Tensorflow), 파이토치(PyTorch) 등\n",
    "- 케라스는 파이썬으로 작성된 고수준 프레임워크로, 엔진으로 텐서플로를 사용한다.\n",
    "- 텐서플로는 구글에서 개발한 파이썬 기반 프레임워크로 머신러닝 개발자에게 가장 인기 있는 프레임워크 중 하나이다. 2019년 텐서플로 2.0이 출시되면서 포괄적인 오픈소스 머신러닝 플랫폼 이용이 가능해졌으며, 고수준 프레임워크인 케라스와 저수준 프레임워크인 텐서플로 코어 API를 함께 사용할 수 있다.\n",
    "\n",
    "## 케라스의 특징\n",
    "- https://keras/io\n",
    "- 케라스는 계산을 직접 수행하는 내부 레벨의 라이브러리가 아니라, 개발자가 손쉽게 딥러닝을 구현할 수 있도록 도와주는 상위 레벨의 인터페이스이다.\n",
    "- 즉, 케라스는 텐서 조작이나 미분 같은 저수준의 연산은 다루지 않고, 백엔드 엔진에서 제공하는 최적화되고 특화된 텐서 라이브러리를 사용한다.\n",
    "- 케라스의 가장 핵심적인 데이터 구조는 모델이다.\n",
    "- 케라스에서 제공하는 시퀀스 모델로 원하는 층을 쉽게 차례로 쌓을 수 있다."
   ]
  },
  {
   "cell_type": "code",
   "execution_count": 1,
   "id": "ddac9baa",
   "metadata": {},
   "outputs": [
    {
     "data": {
      "text/plain": [
       "'2.5.0'"
      ]
     },
     "execution_count": 1,
     "metadata": {},
     "output_type": "execute_result"
    }
   ],
   "source": [
    "import keras\n",
    "keras.__version__"
   ]
  },
  {
   "cell_type": "markdown",
   "id": "ff4b73e4",
   "metadata": {},
   "source": [
    "### 케라스에서 MNIST 데이터셋 적재하기\n",
    "- 이미지는 넘파이 배열로 인코딩되어 있고 레이블은 0부터 9까지의 숫자 배열이다.\n",
    "- 이미지와 레이블은 1대1 관계이다."
   ]
  },
  {
   "cell_type": "code",
   "execution_count": 2,
   "id": "9a4f9c8c",
   "metadata": {},
   "outputs": [],
   "source": [
    "from keras.datasets import mnist\n",
    "\n",
    "(train_images, train_labels), (test_images, test_labels) = mnist.load_data()"
   ]
  },
  {
   "cell_type": "markdown",
   "id": "0da0c840",
   "metadata": {},
   "source": [
    "### 훈련 데이터 살펴보기"
   ]
  },
  {
   "cell_type": "code",
   "execution_count": 3,
   "id": "3b1d1f14",
   "metadata": {},
   "outputs": [
    {
     "data": {
      "text/plain": [
       "3"
      ]
     },
     "execution_count": 3,
     "metadata": {},
     "output_type": "execute_result"
    }
   ],
   "source": [
    "train_images.ndim"
   ]
  },
  {
   "cell_type": "code",
   "execution_count": 4,
   "id": "1e7dd1e4",
   "metadata": {},
   "outputs": [
    {
     "data": {
      "text/plain": [
       "(60000, 28, 28)"
      ]
     },
     "execution_count": 4,
     "metadata": {},
     "output_type": "execute_result"
    }
   ],
   "source": [
    "train_images.shape"
   ]
  },
  {
   "cell_type": "code",
   "execution_count": 5,
   "id": "10d87090",
   "metadata": {},
   "outputs": [
    {
     "data": {
      "text/plain": [
       "dtype('uint8')"
      ]
     },
     "execution_count": 5,
     "metadata": {},
     "output_type": "execute_result"
    }
   ],
   "source": [
    "train_images.dtype"
   ]
  },
  {
   "cell_type": "code",
   "execution_count": 6,
   "id": "9c042a1b",
   "metadata": {},
   "outputs": [
    {
     "data": {
      "text/plain": [
       "array([5, 0, 4, ..., 5, 6, 8], dtype=uint8)"
      ]
     },
     "execution_count": 6,
     "metadata": {},
     "output_type": "execute_result"
    }
   ],
   "source": [
    "train_labels"
   ]
  },
  {
   "cell_type": "code",
   "execution_count": 7,
   "id": "d92b5c04",
   "metadata": {},
   "outputs": [
    {
     "data": {
      "text/plain": [
       "60000"
      ]
     },
     "execution_count": 7,
     "metadata": {},
     "output_type": "execute_result"
    }
   ],
   "source": [
    "len(train_labels)"
   ]
  },
  {
   "cell_type": "markdown",
   "id": "aabd2595",
   "metadata": {},
   "source": [
    "- 이 배열은 8비트 정수형 3D 텐서이다.\n",
    "- 28*28 크기의 정수 행렬 60000개가 있는 배열이다.\n",
    "- 각 행렬은 하나의 흑백 이미지이고, 행렬의 각 원소는 0에서 255 사이의 값을 가진다."
   ]
  },
  {
   "cell_type": "markdown",
   "id": "535283cc",
   "metadata": {},
   "source": [
    "### 다섯 번째 샘플(이미지) 살펴보기"
   ]
  },
  {
   "cell_type": "code",
   "execution_count": 8,
   "id": "c1d0fe0b",
   "metadata": {},
   "outputs": [
    {
     "data": {
      "image/png": "[encoded data removed]",
      "text/plain": [
       "<Figure size 432x288 with 1 Axes>"
      ]
     },
     "metadata": {
      "needs_background": "light"
     },
     "output_type": "display_data"
    }
   ],
   "source": [
    "import matplotlib.pyplot as plt\n",
    "\n",
    "digit = train_images[4]\n",
    "\n",
    "plt.imshow(digit, cmap=plt.cm.binary)\n",
    "plt.show()"
   ]
  },
  {
   "cell_type": "markdown",
   "id": "982087d0",
   "metadata": {},
   "source": [
    "#### 테스트 데이터 살펴보기"
   ]
  },
  {
   "cell_type": "code",
   "execution_count": 9,
   "id": "6668bea9",
   "metadata": {},
   "outputs": [
    {
     "data": {
      "text/plain": [
       "3"
      ]
     },
     "execution_count": 9,
     "metadata": {},
     "output_type": "execute_result"
    }
   ],
   "source": [
    "test_images.ndim"
   ]
  },
  {
   "cell_type": "code",
   "execution_count": 10,
   "id": "8edc1b37",
   "metadata": {},
   "outputs": [
    {
     "data": {
      "text/plain": [
       "(10000, 28, 28)"
      ]
     },
     "execution_count": 10,
     "metadata": {},
     "output_type": "execute_result"
    }
   ],
   "source": [
    "test_images.shape"
   ]
  },
  {
   "cell_type": "code",
   "execution_count": 11,
   "id": "b9d77b7d",
   "metadata": {},
   "outputs": [
    {
     "data": {
      "text/plain": [
       "dtype('uint8')"
      ]
     },
     "execution_count": 11,
     "metadata": {},
     "output_type": "execute_result"
    }
   ],
   "source": [
    "test_images.dtype"
   ]
  },
  {
   "cell_type": "code",
   "execution_count": 12,
   "id": "724d1b31",
   "metadata": {},
   "outputs": [
    {
     "data": {
      "text/plain": [
       "array([7, 2, 1, ..., 4, 5, 6], dtype=uint8)"
      ]
     },
     "execution_count": 12,
     "metadata": {},
     "output_type": "execute_result"
    }
   ],
   "source": [
    "test_labels"
   ]
  },
  {
   "cell_type": "code",
   "execution_count": 13,
   "id": "c7c9f570",
   "metadata": {},
   "outputs": [
    {
     "data": {
      "text/plain": [
       "10000"
      ]
     },
     "execution_count": 13,
     "metadata": {},
     "output_type": "execute_result"
    }
   ],
   "source": [
    "len(test_labels)"
   ]
  },
  {
   "cell_type": "markdown",
   "id": "5268e7b2",
   "metadata": {},
   "source": [
    "### 신경망 구조\n",
    "- 훈련 데이터 train_images와 train_labels를 네트워크에 주입한다.\n",
    "- 네트워크는 이미지와 레이블을 연관시킬 수 있도록 학습된다.\n",
    "- test_images에 대한 예측을 네트워크에 요청한다.\n",
    "- 예측이 test_labels와 맞는지 확인한다.\n",
    "<br><br>\n",
    "- 신경망의 핵심 구성 요소는 데이터 처리 모듈인 층(layer)이다.\n",
    "- 대부분의 딥러닝은 간단한 층을 연결하여 구성되어 있고, 점진적으로 데이터를 정제하는 형태를 띠고 있다.\n",
    "- 딥러닝 모델은 데이터 정제 필터(층)이 연속되어 있는 데이터 처리를 위한 여과기와 같다."
   ]
  },
  {
   "cell_type": "code",
   "execution_count": 14,
   "id": "c288ab20",
   "metadata": {},
   "outputs": [],
   "source": [
    "from keras import models, layers\n",
    "\n",
    "network = models.Sequential()\n",
    "network.add(layers.Dense(512, activation='relu', input_shape=(28 * 28,)))\n",
    "network.add(layers.Dense(10, activation='softmax'))"
   ]
  },
  {
   "cell_type": "markdown",
   "id": "cece88b1",
   "metadata": {},
   "source": [
    "- 여기서는 완전 연결 층인 Dense 층 2개가 연속되어 있다.\n",
    "- 두 번째 층은 10개의 확률 점수가 들어 있는 배열(모두 더하면 1)을 반환하는 소프트맥스(softmax) 층이다.\n",
    "- 각 점수는 현재 숫자 이미지가 10개의 숫자 클래스 중 하나에 속할 확률이다."
   ]
  },
  {
   "cell_type": "markdown",
   "id": "48984232",
   "metadata": {},
   "source": [
    "### 컴파일 단계\n",
    "- 손실 함수 : 훈련 데이터에서 신경망의 성능을 측정하는 방법으로 네트워크가 옳은 방향으로 학습될 수 있도록 도와준다.\n",
    "- 옵티마이저 : 입력된 데이터와 손실 함수를 기반으로 네트워크를 업데이트하는 메커니즘이다.\n",
    "- 훈련과 테스트 과정을 모니터링할 지표 : 여기에서는 정확도(정확히 분류된 이미지의 비율)만 고려한다."
   ]
  },
  {
   "cell_type": "code",
   "execution_count": 15,
   "id": "297988a2",
   "metadata": {},
   "outputs": [],
   "source": [
    "network.compile(optimizer='rmsprop',  # ㄱㅕㅇㅅㅏ ㅎㅏㄱㅏㅇㅂㅓㅂ\n",
    "               loss='categorical_crossentropy',\n",
    "               metrics=['accuracy'])"
   ]
  },
  {
   "cell_type": "markdown",
   "id": "a2b57b31",
   "metadata": {},
   "source": [
    "### 이미지 데이터 준비하기\n",
    "- 데이터를 네트워크에 맞는 크기로 바꾸고 모든 값을 0과 1 사이로 스케일을 조정한다.\n",
    "- [0, 255] 사이의 값인 uint8 타입의 (60000, 28, 28) 크기를 가진 배열로 저장되어 있다.\n",
    "- 이 데이터를 0과 1 사이의 값을 가지는 float32 타입의 (60000, 28*28) 크기인 배열로 바꾼다."
   ]
  },
  {
   "cell_type": "code",
   "execution_count": 16,
   "id": "d62f770f",
   "metadata": {},
   "outputs": [],
   "source": [
    "train_images = train_images.reshape((60000, 28*28))\n",
    "train_images = train_images.astype('float32') / 255\n",
    "\n",
    "test_images = test_images.reshape((10000, 28*28))\n",
    "test_images = test_images.astype('float32') / 255"
   ]
  },
  {
   "cell_type": "markdown",
   "id": "44a76b2c",
   "metadata": {},
   "source": [
    "### 레이블 준비하기\n",
    "- 레이블을 범주형으로 인코딩한다."
   ]
  },
  {
   "cell_type": "code",
   "execution_count": 17,
   "id": "694a25c7",
   "metadata": {},
   "outputs": [
    {
     "data": {
      "text/plain": [
       "array([[0., 0., 0., ..., 1., 0., 0.],\n",
       "       [0., 0., 1., ..., 0., 0., 0.],\n",
       "       [0., 1., 0., ..., 0., 0., 0.],\n",
       "       ...,\n",
       "       [0., 0., 0., ..., 0., 0., 0.],\n",
       "       [0., 0., 0., ..., 0., 0., 0.],\n",
       "       [0., 0., 0., ..., 0., 0., 0.]], dtype=float32)"
      ]
     },
     "execution_count": 17,
     "metadata": {},
     "output_type": "execute_result"
    }
   ],
   "source": [
    "from keras.utils.np_utils import to_categorical\n",
    "\n",
    "train_labels = to_categorical(train_labels)\n",
    "test_labels = to_categorical(test_labels)\n",
    "\n",
    "test_labels"
   ]
  },
  {
   "cell_type": "markdown",
   "id": "2abcc4dd",
   "metadata": {},
   "source": [
    "### 모델 학습"
   ]
  },
  {
   "cell_type": "code",
   "execution_count": 18,
   "id": "5bc6086a",
   "metadata": {},
   "outputs": [
    {
     "name": "stdout",
     "output_type": "stream",
     "text": [
      "Epoch 1/5\n",
      "469/469 [==============================] - 13s 5ms/step - loss: 0.4241 - accuracy: 0.8786\n",
      "Epoch 2/5\n",
      "469/469 [==============================] - 2s 5ms/step - loss: 0.1115 - accuracy: 0.9679\n",
      "Epoch 3/5\n",
      "469/469 [==============================] - 2s 5ms/step - loss: 0.0677 - accuracy: 0.9795\n",
      "Epoch 4/5\n",
      "469/469 [==============================] - 2s 5ms/step - loss: 0.0484 - accuracy: 0.9853\n",
      "Epoch 5/5\n",
      "469/469 [==============================] - 3s 5ms/step - loss: 0.0359 - accuracy: 0.9892\n"
     ]
    },
    {
     "data": {
      "text/plain": [
       "<keras.callbacks.History at 0x2030bb7bc40>"
      ]
     },
     "execution_count": 18,
     "metadata": {},
     "output_type": "execute_result"
    }
   ],
   "source": [
    "network.fit(train_images, train_labels, batch_size=128, epochs=5)"
   ]
  },
  {
   "cell_type": "markdown",
   "id": "7d34023f",
   "metadata": {},
   "source": [
    "- 네트워크가 128개 샘플씩 미니 배치로 훈련 데이터를 다섯 번 반복한다.\n",
    "- 전체 훈련 데이터에 수행되는 각 반복을 에포크(epoch)라고 한다.\n",
    "- 각 반복마다 네트워크가 배치에서 손실에 대한 가중치의 그래디언트를 계산하고 그에 맞추어 가중치를 업데이트한다.\n",
    "- 다섯 번의 에포크 동안 네트워크는 2345번의 그래이던트 업데이트를 수행한다.(에포크마다 469번, 훈련 샘플이 6만 개이므로 128개씩 배치로 나누면 469개의 배치가 만들어진다.)"
   ]
  },
  {
   "cell_type": "code",
   "execution_count": 19,
   "id": "4d605df9",
   "metadata": {},
   "outputs": [
    {
     "name": "stdout",
     "output_type": "stream",
     "text": [
      "313/313 [==============================] - 1s 990us/step - loss: 0.0790 - accuracy: 0.9763\n"
     ]
    }
   ],
   "source": [
    "test_loss, test_acc = network.evaluate(test_images, test_labels)"
   ]
  },
  {
   "cell_type": "code",
   "execution_count": 20,
   "id": "e44011e1",
   "metadata": {},
   "outputs": [
    {
     "name": "stdout",
     "output_type": "stream",
     "text": [
      "test_acc:  0.9763000011444092\n"
     ]
    }
   ],
   "source": [
    "print('test_acc: ', test_acc)"
   ]
  },
  {
   "cell_type": "code",
   "execution_count": null,
   "id": "ef20582e",
   "metadata": {},
   "outputs": [],
   "source": [
    "`"
   ]
  }
 ],
 "metadata": {
  "kernelspec": {
   "display_name": "Python 3",
   "language": "python",
   "name": "python3"
  },
  "language_info": {
   "codemirror_mode": {
    "name": "ipython",
    "version": 3
   },
   "file_extension": ".py",
   "mimetype": "text/x-python",
   "name": "python",
   "nbconvert_exporter": "python",
   "pygments_lexer": "ipython3",
   "version": "3.7.6"
  }
 },
 "nbformat": 4,
 "nbformat_minor": 5
}
